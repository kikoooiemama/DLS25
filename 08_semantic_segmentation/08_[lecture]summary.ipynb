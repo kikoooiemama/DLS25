{
 "cells": [
  {
   "cell_type": "markdown",
   "metadata": {},
   "source": [
    "* Лекция 1. Введение  **<a href=\"https://www.youtube.com/watch?v=tIqndofykgc\">YouTube</a>**  **<a href=\"https://vkvideo.ru/video-155161349_456239239?ref_domain=stepik.org\">VK</a>**\n",
    "* Лекция 2. Трюки: Deconvolution, Dilated Convolution  **<a href=\"https://www.youtube.com/watch?v=K73tZxH9nvE\">YouTube</a>**  **<a href=\"https://vkvideo.ru/video-155161349_456239240?ref_domain=stepik.org\">VK</a>**\n",
    "* Лекция 3. Архитектура UNet  **<a href=\"https://www.youtube.com/watch?v=yEuIV5FsRMs\">YouTube</a>**  **<a href=\"https://vkvideo.ru/video-155161349_456239241?ref_domain=stepik.org\">VK</a>**\n",
    "* Семинар 1. Семантическая сегментация **<a href=\"https://www.youtube.com/watch?v=QUYKIC7EmiM&ab_channel=DeepLearningSchool\">YouTube</a>**  **<a href=\"https://vkvideo.ru/video-155161349_456239243?ref_domain=stepik.org\">VK</a>**\n",
    "* Семинар 2. Сегментация изображений с камеры беспилотника **<a href=\"https://www.youtube.com/watch?v=2zdbU7fUId8&ab_channel=%D0%90%D0%BA%D0%B0%D0%B4%D0%B5%D0%BC%D0%B8%D1%8F%D0%B8%D1%81%D0%BA%D1%83%D1%81%D1%81%D1%82%D0%B2%D0%B5%D0%BD%D0%BD%D0%BE%D0%B3%D0%BE%D0%B8%D0%BD%D1%82%D0%B5%D0%BB%D0%BB%D0%B5%D0%BA%D1%82%D0%B0\">YouTube</a>**  **<a href=\"https://vkvideo.ru/video-155161349_456239242?ref_domain=stepik.org\">VK</a>**"
   ]
  },
  {
   "cell_type": "markdown",
   "metadata": {
    "id": "W-h7yCBjzRAV"
   },
   "source": [
    "### 1. Введение\n",
    "- 1"
   ]
  },
  {
   "cell_type": "markdown",
   "metadata": {
    "id": "cntXwLNoWPRJ"
   },
   "source": [
    "### 2. Трюки: Deconvolution, Dilated Convolution\n",
    "- 1"
   ]
  },
  {
   "cell_type": "markdown",
   "metadata": {
    "id": "h8-Oppd1oofH"
   },
   "source": [
    "### 3. Архитектура UNet\n",
    "- 1"
   ]
  }
 ],
 "metadata": {
  "colab": {
   "authorship_tag": "ABX9TyMCh775ZgA20IWmCeZ5pgHQ",
   "provenance": []
  },
  "kernelspec": {
   "display_name": "Python 3 (ipykernel)",
   "language": "python",
   "name": "python3"
  },
  "language_info": {
   "codemirror_mode": {
    "name": "ipython",
    "version": 3
   },
   "file_extension": ".py",
   "mimetype": "text/x-python",
   "name": "python",
   "nbconvert_exporter": "python",
   "pygments_lexer": "ipython3",
   "version": "3.12.8"
  }
 },
 "nbformat": 4,
 "nbformat_minor": 4
}
