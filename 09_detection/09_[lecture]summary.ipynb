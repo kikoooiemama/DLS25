{
 "cells": [
  {
   "cell_type": "markdown",
   "id": "7f97614e-1c5c-425a-95ea-583d97b0006a",
   "metadata": {},
   "source": [
    "* Лекция 1. Задача детекции  **<a href=\"https://www.youtube.com/watch?v=GOEdJxG5hhQ&ab_channel=DeepLearningSchool\">YouTube</a>**  **<a href=\"https://vkvideo.ru/video-155161349_456239285?ref_domain=stepik.org\">VK</a>**\n",
    "* Лекция 2. Базовый детектор  **<a href=\"https://www.youtube.com/watch?v=Chv-IIDL4yc&ab_channel=DeepLearningSchool\">YouTube</a>**  **<a href=\"https://vkvideo.ru/video-155161349_456239284?ref_domain=stepik.org\">VK</a>**\n",
    "* Лекция 3. Модели, часть 1  **<a href=\"https://www.youtube.com/watch?v=wWVdCVizTYM&ab_channel=DeepLearningSchool\">YouTube</a>**  **<a href=\"https://vkvideo.ru/video-155161349_456239290?ref_domain=stepik.org\">VK</a>**\n",
    "* Лекция 4. Модели, часть 2  **<a href=\"https://www.youtube.com/watch?v=zd_-3275xK8&ab_channel=DeepLearningSchool\">YouTube</a>**  **<a href=\"https://vkvideo.ru/video-155161349_456239291?ref_domain=stepik.org\">VK</a>**\n",
    "* Семинар 1. Детекция объектов. Часть 1. **<a href=\"https://www.youtube.com/watch?v=oyPTT18G5qM&t=24s&ab_channel=DeepLearningSchool\">YouTube</a>**  **<a href=\"https://vkvideo.ru/video-155161349_456239288?ref_domain=stepik.org\">VK</a>**\n",
    "* Семинар 2. Детекция объектов. Часть 2. **<a href=\"https://www.youtube.com/watch?v=wpvx5rDa_-0&ab_channel=DeepLearningSchool\">YouTube</a>**  **<a href=\"https://vkvideo.ru/video-155161349_456239292?ref_domain=stepik.org\">VK</a>**"
   ]
  },
  {
   "cell_type": "markdown",
   "id": "84b048c1-ec7a-4135-90af-0c24d7e05bc9",
   "metadata": {},
   "source": [
    "### 1. Введение\n",
    "\n",
    "#### Постановка задачи\n",
    "- 1"
   ]
  },
  {
   "cell_type": "markdown",
   "id": "850494a0-2287-4f36-ac15-250c9496cded",
   "metadata": {},
   "source": []
  },
  {
   "cell_type": "markdown",
   "id": "797aa5b1-992f-4796-a0b9-663018137fc6",
   "metadata": {},
   "source": []
  }
 ],
 "metadata": {
  "kernelspec": {
   "display_name": "Python 3 (ipykernel)",
   "language": "python",
   "name": "python3"
  },
  "language_info": {
   "codemirror_mode": {
    "name": "ipython",
    "version": 3
   },
   "file_extension": ".py",
   "mimetype": "text/x-python",
   "name": "python",
   "nbconvert_exporter": "python",
   "pygments_lexer": "ipython3",
   "version": "3.12.8"
  }
 },
 "nbformat": 4,
 "nbformat_minor": 5
}
